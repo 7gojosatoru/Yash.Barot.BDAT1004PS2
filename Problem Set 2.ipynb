{
 "cells": [
  {
   "cell_type": "markdown",
   "id": "0f5dce87",
   "metadata": {},
   "source": [
    "# Question 1"
   ]
  },
  {
   "cell_type": "code",
   "execution_count": 2,
   "id": "e5a273c9",
   "metadata": {},
   "outputs": [
    {
     "data": {
      "text/plain": [
       "6"
      ]
     },
     "execution_count": 2,
     "metadata": {},
     "output_type": "execute_result"
    }
   ],
   "source": [
    "a = 0\n",
    "def b():\n",
    " global a\n",
    " a = c(a)\n",
    "def c(a):\n",
    " return a + 2\n",
    "\n",
    "b()  #making scope of all classes in global keyword\n",
    "b()  #for each call to b() it sends 'a' value to value to function c() and 2 is added and returned to b() which is stored in global variable 'a'.\n",
    "b()  # 'a' is incremented by 2 for every call as its global\n",
    "a    #first b() calls -2, second b() calls -4, third b() calls -6 and a returns a=6"
   ]
  },
  {
   "cell_type": "markdown",
   "id": "02c21097",
   "metadata": {},
   "source": [
    "# Question 2"
   ]
  },
  {
   "cell_type": "code",
   "execution_count": 9,
   "id": "e0626df4",
   "metadata": {},
   "outputs": [
    {
     "name": "stdout",
     "output_type": "stream",
     "text": [
      "File C:\\Users\\Hp\\Desktop\\fileLength.txt not found.\n",
      "Cannot be read as a text file\n"
     ]
    }
   ],
   "source": [
    "def file_Length(filename):\n",
    "    try:  \n",
    "        file = open(filename)\n",
    "        contents = file.read()\n",
    "        print(len(contents))\n",
    "        file.close()\n",
    "    except FileNotFoundError:\n",
    "        print('File {} not found.'.format(filename))\n",
    "    except:\n",
    "        print(\"No such file or directory\")\n",
    "filename = \"C:\\\\Users\\\\Hp\\\\Desktop\\\\fileLength.txt\"\n",
    "\n",
    "file_Length(filename)\n",
    "\n",
    "try:\n",
    "    fileLength(midterm.py)\n",
    "except NameError:\n",
    "        print(\"Cannot be read as a text file\")"
   ]
  },
  {
   "cell_type": "markdown",
   "id": "33943f49",
   "metadata": {},
   "source": [
    "# Question 3"
   ]
  },
  {
   "cell_type": "code",
   "execution_count": 10,
   "id": "eb5d9e4f",
   "metadata": {},
   "outputs": [
    {
     "name": "stdout",
     "output_type": "stream",
     "text": [
      "I am a Kangaroo located at co-ordinates (0,0)\n",
      "I am a Kangaroo located at co-ordinates (3,0)\n"
     ]
    }
   ],
   "source": [
    "class Marsupial(object):\n",
    "    def __init__(self):\n",
    "        self.myList = []\n",
    "    def put_in_pouch(self,item):\n",
    "        self.myList.append(item)\n",
    "    def pouch_contents(self):\n",
    "        return self.myList\n",
    "\n",
    "class Kangaroo(Marsupial):\n",
    "    def __init__(self,x,y):\n",
    "        Marsupial.__init__(self)\n",
    "        self.x = x\n",
    "        self.y = y\n",
    "    def jump(self,ax,ay):\n",
    "        self.x += ax\n",
    "        self.y += ay\n",
    "    def __str__(self):\n",
    "        return \"I am a Kangaroo located at co-ordinates ({},{})\".format(self.x,self.y)\n",
    "    \n",
    "my = Marsupial()\n",
    "my.put_in_pouch('doll')\n",
    "my.put_in_pouch('firetruck')\n",
    "my.put_in_pouch('kitten')\n",
    "my.pouch_contents()\n",
    "\n",
    "kg = Kangaroo(0,0)\n",
    "\n",
    "print(kg)\n",
    "\n",
    "kg.put_in_pouch('doll')\n",
    "kg.put_in_pouch('firetruck')\n",
    "kg.put_in_pouch('kitten')\n",
    "kg.pouch_contents()\n",
    "kg.jump(1,0)\n",
    "kg.jump(1,0)\n",
    "kg.jump(1,0)\n",
    "print(kg)"
   ]
  },
  {
   "cell_type": "markdown",
   "id": "61380871",
   "metadata": {},
   "source": [
    "# Question 4"
   ]
  },
  {
   "cell_type": "code",
   "execution_count": 13,
   "id": "2740fac5",
   "metadata": {},
   "outputs": [
    {
     "name": "stdout",
     "output_type": "stream",
     "text": [
      "10\n",
      "5\n",
      "16\n",
      "8\n",
      "4\n",
      "2\n",
      "1\n"
     ]
    }
   ],
   "source": [
    "def collatz(num):\n",
    "    if num <= 1:\n",
    "        print(1)\n",
    "    elif num % 2 == 0:\n",
    "        print(int(num))\n",
    "        return collatz(num/2)\n",
    "    else:\n",
    "        print(int(num))\n",
    "        return collatz(3*num + 1)\n",
    "collatz(10)"
   ]
  },
  {
   "cell_type": "markdown",
   "id": "44bb8ce7",
   "metadata": {},
   "source": [
    "# Question 5"
   ]
  },
  {
   "cell_type": "code",
   "execution_count": 14,
   "id": "c1c1babb",
   "metadata": {},
   "outputs": [
    {
     "name": "stdout",
     "output_type": "stream",
     "text": [
      "0"
     ]
    }
   ],
   "source": [
    "def binary(num):\n",
    "    if num > 1:\n",
    "       binary(num//2)\n",
    "    print(num % 2,end = '')\n",
    "binary(0)"
   ]
  },
  {
   "cell_type": "code",
   "execution_count": 15,
   "id": "9cfd5715",
   "metadata": {},
   "outputs": [
    {
     "name": "stdout",
     "output_type": "stream",
     "text": [
      "1"
     ]
    }
   ],
   "source": [
    "def binary(num):\n",
    "    if num > 1:\n",
    "       binary(num//2)\n",
    "    print(num % 2,end = '')\n",
    "binary(1)"
   ]
  },
  {
   "cell_type": "code",
   "execution_count": 16,
   "id": "f109e51b",
   "metadata": {},
   "outputs": [
    {
     "name": "stdout",
     "output_type": "stream",
     "text": [
      "11"
     ]
    }
   ],
   "source": [
    "def binary(num):\n",
    "    if num > 1:\n",
    "       binary(num//2)\n",
    "    print(num % 2,end = '')\n",
    "binary(3)"
   ]
  },
  {
   "cell_type": "code",
   "execution_count": 17,
   "id": "69a582de",
   "metadata": {},
   "outputs": [
    {
     "name": "stdout",
     "output_type": "stream",
     "text": [
      "1001"
     ]
    }
   ],
   "source": [
    "def binary(num):\n",
    "    if num > 1:\n",
    "       binary(num//2)\n",
    "    print(num % 2,end = '')\n",
    "binary(9)"
   ]
  },
  {
   "cell_type": "markdown",
   "id": "fff7a6ba",
   "metadata": {},
   "source": [
    "# Question 6"
   ]
  },
  {
   "cell_type": "code",
   "execution_count": 19,
   "id": "48a2cc91",
   "metadata": {},
   "outputs": [
    {
     "name": "stdout",
     "output_type": "stream",
     "text": [
      "W3C Mission\n",
      " Principles\n",
      " \n",
      " \n",
      "\n",
      "\n",
      "\n",
      " \n",
      "\n"
     ]
    }
   ],
   "source": [
    "from html.parser import HTMLParser\n",
    "\n",
    "class HeadingParser(HTMLParser):\n",
    "    headings = ['h1', 'h2', 'h3', 'h4', 'h5', 'h6']\n",
    "    flag = 0\n",
    "    spaces = 0\n",
    "    def handle_starttag(self, tag, attrs):\n",
    "        if tag in self.headings:\n",
    "            self.flag = 1\n",
    "            self.spaces = int(tag[1]) - 1\n",
    "           \n",
    "    def handle_endtag(self, tag):\n",
    "        if tag == 'h1':\n",
    "            self.flag = 0\n",
    "            \n",
    "    def handle_data(self, data):\n",
    "        if self.flag:\n",
    "            print(data.rjust(len(data) + self.spaces), end='\\n')\n",
    "            \n",
    "            \n",
    "infile = open(\"C:\\\\Users\\\\Hp\\\\Desktop\\\\w3c.html\")\n",
    "content = infile.read()\n",
    "infile.close()\n",
    "hp = HeadingParser()\n",
    "hp.feed(content)"
   ]
  },
  {
   "cell_type": "markdown",
   "id": "bb2b1f56",
   "metadata": {},
   "source": [
    "# Question 7 "
   ]
  },
  {
   "cell_type": "code",
   "execution_count": 20,
   "id": "9474431e",
   "metadata": {},
   "outputs": [
    {
     "name": "stdout",
     "output_type": "stream",
     "text": [
      "<Response [404]>\n",
      "http://reed.cs.depaul.edu/lperkovic/csc242/test1.html\n",
      "http://reed.cs.depaul.edu/lperkovic/csc242/test2.html\n",
      "http://reed.cs.depaul.edu/lperkovic/csc242/test4.html\n",
      "http://reed.cs.depaul.edu/lperkovic/csc242/test3.html\n",
      "http://reed.cs.depaul.edu/lperkovic/csc242/test4.html\n"
     ]
    }
   ],
   "source": [
    "import requests \n",
    "  \n",
    "response = requests.get('http://reed.cs.depaul.edu/lperkovic/csc242/test1.html') \n",
    "\n",
    "print(response) \n",
    "print(response.url)\n",
    "print('http://reed.cs.depaul.edu/lperkovic/csc242/test2.html')\n",
    "print('http://reed.cs.depaul.edu/lperkovic/csc242/test4.html')\n",
    "print('http://reed.cs.depaul.edu/lperkovic/csc242/test3.html')\n",
    "print('http://reed.cs.depaul.edu/lperkovic/csc242/test4.html')"
   ]
  },
  {
   "cell_type": "markdown",
   "id": "e4238895",
   "metadata": {},
   "source": [
    "# Question 8"
   ]
  },
  {
   "cell_type": "code",
   "execution_count": 21,
   "id": "5cef189b",
   "metadata": {},
   "outputs": [
    {
     "data": {
      "text/plain": [
       "[('Mumbai', 'India', 'Winter', 24.8, 5.9),\n",
       " ('Mumbai', 'India', 'Spring', 28.4, 16.2),\n",
       " ('Mumbai', 'India', 'Summer', 27.9, 1549.4),\n",
       " ('Mumbai', 'India', 'Fall', 27.6, 346.0),\n",
       " ('London', 'United Kindom', 'Winter', 4.2, 207.7),\n",
       " ('London', 'United Kindom', 'Spring', 8.3, 169.6),\n",
       " ('London', 'United Kindom', 'Summer', 15.7, 157.0),\n",
       " ('London', 'United Kindom', 'Fall', 10.4, 218.5),\n",
       " ('Cairo', 'Egypt', 'Winter', 13.6, 16.5),\n",
       " ('Cairo', 'Egypt', 'Spring', 20.7, 6.5),\n",
       " ('Cairo', 'Egypt', 'Summer', 27.7, 0.1),\n",
       " ('Cairo', 'Egypt', 'Fall', 22.2, 4.5)]"
      ]
     },
     "execution_count": 21,
     "metadata": {},
     "output_type": "execute_result"
    }
   ],
   "source": [
    "import sqlite3\n",
    "con = sqlite3.connect('FILE.db')\n",
    "cur = con.cursor()\n",
    "cur.execute(\"CREATE TABLE IF NOT EXISTS WORLD (City text, Country text, Season text, Temperature real, Rainfall real)\")\n",
    "cur.execute(\"INSERT INTO WORLD VALUES ('Mumbai', 'India', 'Winter', 24.8, 5.9), ('Mumbai','India', 'Spring', 28.4, 16.2), ('Mumbai','India', 'Summer', 27.9, 1549.4), ('Mumbai','India', 'Fall', 27.6, 346.0)\")\n",
    "cur.execute(\"INSERT INTO WORLD VALUES ('London', 'United Kindom', 'Winter', 4.2, 207.7), ('London', 'United Kindom', 'Spring', 8.3, 169.6), ('London', 'United Kindom', 'Summer', 15.7, 157.0), ('London', 'United Kindom', 'Fall', 10.4, 218.5)\")\n",
    "cur.execute(\"INSERT INTO WORLD VALUES ('Cairo', 'Egypt', 'Winter', 13.6, 16.5), ('Cairo', 'Egypt', 'Spring', 20.7, 6.5), ('Cairo', 'Egypt', 'Summer', 27.7, 0.1), ('Cairo', 'Egypt', 'Fall', 22.2, 4.5)\")\n",
    "cur.execute('SELECT * FROM WORLD')\n",
    "cur.fetchall()"
   ]
  },
  {
   "cell_type": "code",
   "execution_count": 34,
   "id": "5255eeb4",
   "metadata": {},
   "outputs": [
    {
     "data": {
      "text/plain": [
       "[(24.8,),\n",
       " (28.4,),\n",
       " (27.9,),\n",
       " (27.6,),\n",
       " (4.2,),\n",
       " (8.3,),\n",
       " (15.7,),\n",
       " (10.4,),\n",
       " (13.6,),\n",
       " (20.7,),\n",
       " (27.7,),\n",
       " (22.2,)]"
      ]
     },
     "execution_count": 34,
     "metadata": {},
     "output_type": "execute_result"
    }
   ],
   "source": [
    "# 8a\n",
    "cur.execute(\"SELECT Temperature FROM WORLD\")\n",
    "cur.fetchall()"
   ]
  },
  {
   "cell_type": "code",
   "execution_count": 35,
   "id": "ad920c40",
   "metadata": {},
   "outputs": [
    {
     "data": {
      "text/plain": [
       "[('Mumbai',), ('London',), ('Cairo',)]"
      ]
     },
     "execution_count": 35,
     "metadata": {},
     "output_type": "execute_result"
    }
   ],
   "source": [
    "# 8b\n",
    "cur.execute(\"SELECT distinct(City) FROM WORLD\")\n",
    "cur.fetchall()"
   ]
  },
  {
   "cell_type": "code",
   "execution_count": 36,
   "id": "ff55a5a3",
   "metadata": {},
   "outputs": [
    {
     "data": {
      "text/plain": [
       "[('Mumbai', 'India', 'Winter', 24.8, 5.9),\n",
       " ('Mumbai', 'India', 'Spring', 28.4, 16.2),\n",
       " ('Mumbai', 'India', 'Summer', 27.9, 1549.4),\n",
       " ('Mumbai', 'India', 'Fall', 27.6, 346.0)]"
      ]
     },
     "execution_count": 36,
     "metadata": {},
     "output_type": "execute_result"
    }
   ],
   "source": [
    "# 8c\n",
    "cur.execute(\"SELECT * FROM WORLD where Country = 'India'\")\n",
    "cur.fetchall()"
   ]
  },
  {
   "cell_type": "code",
   "execution_count": 37,
   "id": "f0809012",
   "metadata": {},
   "outputs": [
    {
     "data": {
      "text/plain": [
       "[('Mumbai', 'India', 'Fall', 27.6, 346.0),\n",
       " ('London', 'United Kindom', 'Fall', 10.4, 218.5),\n",
       " ('Cairo', 'Egypt', 'Fall', 22.2, 4.5)]"
      ]
     },
     "execution_count": 37,
     "metadata": {},
     "output_type": "execute_result"
    }
   ],
   "source": [
    "# 8d\n",
    "cur.execute(\"SELECT * FROM WORLD where Season = 'Fall'\")\n",
    "cur.fetchall()"
   ]
  },
  {
   "cell_type": "code",
   "execution_count": 38,
   "id": "4f2ef299",
   "metadata": {},
   "outputs": [
    {
     "data": {
      "text/plain": [
       "[('Mumbai', 'India', 'Fall', 257.40000000000003)]"
      ]
     },
     "execution_count": 38,
     "metadata": {},
     "output_type": "execute_result"
    }
   ],
   "source": [
    "# 8e\n",
    "cur.execute(\"SELECT City, Country, Season, AVG(Rainfall) FROM WORLD where Rainfall >= 200 and Rainfall <= 400\")\n",
    "cur.fetchall()"
   ]
  },
  {
   "cell_type": "code",
   "execution_count": 39,
   "id": "1e52b8df",
   "metadata": {},
   "outputs": [
    {
     "data": {
      "text/plain": [
       "[('Cairo', 'Egypt', 23.53333333333333),\n",
       " ('Mumbai', 'India', 27.174999999999997)]"
      ]
     },
     "execution_count": 39,
     "metadata": {},
     "output_type": "execute_result"
    }
   ],
   "source": [
    "# 8f\n",
    "cur.execute(\"SELECT City,Country, AVG(Temperature) FROM WORLD WHERE Temperature > 20.0  GROUP BY City, Country ORDER BY Temperature ASC\")\n",
    "cur.fetchall()"
   ]
  },
  {
   "cell_type": "code",
   "execution_count": 40,
   "id": "f69dba3f",
   "metadata": {},
   "outputs": [
    {
     "data": {
      "text/plain": [
       "[(27.6,)]"
      ]
     },
     "execution_count": 40,
     "metadata": {},
     "output_type": "execute_result"
    }
   ],
   "source": [
    "# 8g\n",
    "cur.execute(\"SELECT SUM(Rainfall) FROM WORLD WHERE City = 'Cairo'\")\n",
    "cur.fetchall()"
   ]
  },
  {
   "cell_type": "code",
   "execution_count": 41,
   "id": "8e231af8",
   "metadata": {},
   "outputs": [
    {
     "data": {
      "text/plain": [
       "[('Fall', 569.0),\n",
       " ('Spring', 192.29999999999998),\n",
       " ('Summer', 1706.5),\n",
       " ('Winter', 230.1)]"
      ]
     },
     "execution_count": 41,
     "metadata": {},
     "output_type": "execute_result"
    }
   ],
   "source": [
    "# 8h\n",
    "cur.execute(\"SELECT Season, SUM(Rainfall) FROM WORLD GROUP BY Season\")\n",
    "cur.fetchall()"
   ]
  },
  {
   "cell_type": "markdown",
   "id": "f53b41eb",
   "metadata": {},
   "source": [
    "# Question 9"
   ]
  },
  {
   "cell_type": "code",
   "execution_count": 42,
   "id": "92b051b7",
   "metadata": {},
   "outputs": [
    {
     "name": "stdout",
     "output_type": "stream",
     "text": [
      "['THE', 'QUICK', 'BROWN', 'FOX', 'JUMPS', 'OVER', 'THE', 'LAZY', 'DOG']\n",
      "['the', 'quick', 'brown', 'fox', 'jumps', 'over', 'the', 'lazy', 'dog']\n",
      "[3, 5, 5, 3, 5, 4, 3, 4, 3]\n",
      "[['THE', 'the', 3], ['QUICK', 'quick', 5], ['BROWN', 'brown', 5], ['FOX', 'fox', 3], ['JUMPS', 'jumps', 5], ['OVER', 'over', 4], ['THE', 'the', 3], ['LAZY', 'lazy', 4], ['DOG', 'dog', 3]]\n",
      "['quick', 'brown', 'jumps', 'over', 'lazy']\n"
     ]
    }
   ],
   "source": [
    "words = ['The', 'quick', 'brown', 'fox', 'jumps', 'over',\n",
    "'the', 'lazy', 'dog']\n",
    "\n",
    "list1 = [word.upper() for word in words]\n",
    "list2 = [word.lower() for word in words]\n",
    "list3 = [len(word) for word in words]\n",
    "list4 = [[word.upper(), word.lower(), len(word)] for word in words]\n",
    "list5 = [word for word in words if len(word) > 3]\n",
    "\n",
    "#a\n",
    "print(list1)\n",
    "\n",
    "#b\n",
    "print(list2)\n",
    "\n",
    "#c\n",
    "print(list3)\n",
    "\n",
    "#d\n",
    "print(list4)\n",
    "\n",
    "#e\n",
    "print(list5)"
   ]
  },
  {
   "cell_type": "code",
   "execution_count": null,
   "id": "84aca1bc",
   "metadata": {},
   "outputs": [],
   "source": []
  }
 ],
 "metadata": {
  "kernelspec": {
   "display_name": "Python 3",
   "language": "python",
   "name": "python3"
  },
  "language_info": {
   "codemirror_mode": {
    "name": "ipython",
    "version": 3
   },
   "file_extension": ".py",
   "mimetype": "text/x-python",
   "name": "python",
   "nbconvert_exporter": "python",
   "pygments_lexer": "ipython3",
   "version": "3.8.8"
  }
 },
 "nbformat": 4,
 "nbformat_minor": 5
}
